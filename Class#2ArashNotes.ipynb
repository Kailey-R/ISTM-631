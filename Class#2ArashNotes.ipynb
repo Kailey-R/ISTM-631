{
  "nbformat": 4,
  "nbformat_minor": 0,
  "metadata": {
    "colab": {
      "name": "ISTM 631 5/11/2020.ipynb",
      "provenance": [],
      "include_colab_link": true
    },
    "kernelspec": {
      "name": "python3",
      "display_name": "Python 3"
    }
  },
  "cells": [
    {
      "cell_type": "markdown",
      "metadata": {
        "id": "view-in-github",
        "colab_type": "text"
      },
      "source": [
        "<a href=\"https://colab.research.google.com/github/Kailey-R/ISTM-631/blob/master/Class%232ArashNotes.ipynb\" target=\"_parent\"><img src=\"https://colab.research.google.com/assets/colab-badge.svg\" alt=\"Open In Colab\"/></a>"
      ]
    },
    {
      "cell_type": "markdown",
      "metadata": {
        "id": "gAWt1vb_QwS8",
        "colab_type": "text"
      },
      "source": [
        "object oriented programming\n",
        "\n",
        "function based programming"
      ]
    },
    {
      "cell_type": "markdown",
      "metadata": {
        "id": "zNC6Au3ARKD2",
        "colab_type": "text"
      },
      "source": [
        "String --> anything between \"\" -->\n",
        "\n",
        "\n",
        "Name[0]"
      ]
    },
    {
      "cell_type": "code",
      "metadata": {
        "id": "-VIKGuPONtKH",
        "colab_type": "code",
        "colab": {}
      },
      "source": [
        "Name = 'Arash Vafa'"
      ],
      "execution_count": 0,
      "outputs": []
    },
    {
      "cell_type": "code",
      "metadata": {
        "id": "vf-52wHvRoLe",
        "colab_type": "code",
        "outputId": "2487a858-837e-46ba-878e-21aac7c156fe",
        "colab": {
          "base_uri": "https://localhost:8080/",
          "height": 34
        }
      },
      "source": [
        "print(Name[-2])"
      ],
      "execution_count": 0,
      "outputs": [
        {
          "output_type": "stream",
          "text": [
            "f\n"
          ],
          "name": "stdout"
        }
      ]
    },
    {
      "cell_type": "code",
      "metadata": {
        "id": "F5CHqg4IS7_G",
        "colab_type": "code",
        "colab": {}
      },
      "source": [
        "ll = len(Name)"
      ],
      "execution_count": 0,
      "outputs": []
    },
    {
      "cell_type": "code",
      "metadata": {
        "id": "oGkwVRzRR80s",
        "colab_type": "code",
        "outputId": "19d9fa4b-7e1a-45a9-a360-eb201e584d06",
        "colab": {
          "base_uri": "https://localhost:8080/",
          "height": 34
        }
      },
      "source": [
        "Name[ll-3:ll-1]"
      ],
      "execution_count": 0,
      "outputs": [
        {
          "output_type": "execute_result",
          "data": {
            "text/plain": [
              "'af'"
            ]
          },
          "metadata": {
            "tags": []
          },
          "execution_count": 9
        }
      ]
    },
    {
      "cell_type": "markdown",
      "metadata": {
        "id": "8E6TGv0aSOxT",
        "colab_type": "text"
      },
      "source": [
        "Stride"
      ]
    },
    {
      "cell_type": "code",
      "metadata": {
        "id": "mPXRTkE8SEL1",
        "colab_type": "code",
        "outputId": "07ec72e8-6844-4d95-89d5-9296e75e4f6b",
        "colab": {
          "base_uri": "https://localhost:8080/",
          "height": 34
        }
      },
      "source": [
        "Name[0:10:2]"
      ],
      "execution_count": 0,
      "outputs": [
        {
          "output_type": "execute_result",
          "data": {
            "text/plain": [
              "'AahVf'"
            ]
          },
          "metadata": {
            "tags": []
          },
          "execution_count": 5
        }
      ]
    },
    {
      "cell_type": "markdown",
      "metadata": {
        "id": "kHmkU1KXSUDv",
        "colab_type": "text"
      },
      "source": [
        "Escape Sequence"
      ]
    },
    {
      "cell_type": "code",
      "metadata": {
        "id": "qcv2-TgdScUM",
        "colab_type": "code",
        "outputId": "d2bf10f9-c068-41ad-fd50-92ba623dca7d",
        "colab": {
          "base_uri": "https://localhost:8080/",
          "height": 34
        }
      },
      "source": [
        "print('Arash\\t is here')"
      ],
      "execution_count": 0,
      "outputs": [
        {
          "output_type": "stream",
          "text": [
            "Arash\t is here\n"
          ],
          "name": "stdout"
        }
      ]
    },
    {
      "cell_type": "markdown",
      "metadata": {
        "id": "ku79E_8hTeb2",
        "colab_type": "text"
      },
      "source": [
        "String Operations"
      ]
    },
    {
      "cell_type": "code",
      "metadata": {
        "id": "qd2Rhaa-ToXl",
        "colab_type": "code",
        "outputId": "dff37a93-8292-4e27-f3bd-56ce68c92612",
        "colab": {
          "base_uri": "https://localhost:8080/",
          "height": 34
        }
      },
      "source": [
        "print(Name)"
      ],
      "execution_count": 0,
      "outputs": [
        {
          "output_type": "stream",
          "text": [
            "Arash Vafa\n"
          ],
          "name": "stdout"
        }
      ]
    },
    {
      "cell_type": "code",
      "metadata": {
        "id": "umDlseeGTrTz",
        "colab_type": "code",
        "outputId": "6a102135-d3d4-43f3-c4d7-9da1c7c31a43",
        "colab": {
          "base_uri": "https://localhost:8080/",
          "height": 34
        }
      },
      "source": [
        "B = Name.upper()\n",
        "\n",
        "print(B)"
      ],
      "execution_count": 0,
      "outputs": [
        {
          "output_type": "stream",
          "text": [
            "ARASH VAFA\n"
          ],
          "name": "stdout"
        }
      ]
    },
    {
      "cell_type": "code",
      "metadata": {
        "id": "wE1TKrcCT6in",
        "colab_type": "code",
        "outputId": "36c6c22c-24d4-4eab-fe39-c979530767fb",
        "colab": {
          "base_uri": "https://localhost:8080/",
          "height": 34
        }
      },
      "source": [
        "print(Name.upper())"
      ],
      "execution_count": 0,
      "outputs": [
        {
          "output_type": "stream",
          "text": [
            "ARASH VAFA\n"
          ],
          "name": "stdout"
        }
      ]
    },
    {
      "cell_type": "code",
      "metadata": {
        "id": "cxZlpfDwT8k2",
        "colab_type": "code",
        "outputId": "c3edd8c3-88f1-4093-aa07-8bbe97d32338",
        "colab": {
          "base_uri": "https://localhost:8080/",
          "height": 34
        }
      },
      "source": [
        "print(Name)"
      ],
      "execution_count": 0,
      "outputs": [
        {
          "output_type": "stream",
          "text": [
            "Arash Vafa\n"
          ],
          "name": "stdout"
        }
      ]
    },
    {
      "cell_type": "code",
      "metadata": {
        "id": "Q7Ev-U-qUcev",
        "colab_type": "code",
        "outputId": "44751535-037f-41fe-d414-5bf71d77460f",
        "colab": {
          "base_uri": "https://localhost:8080/",
          "height": 34
        }
      },
      "source": [
        "'test'.upper()"
      ],
      "execution_count": 0,
      "outputs": [
        {
          "output_type": "execute_result",
          "data": {
            "text/plain": [
              "'TEST'"
            ]
          },
          "metadata": {
            "tags": []
          },
          "execution_count": 15
        }
      ]
    },
    {
      "cell_type": "code",
      "metadata": {
        "id": "IJSqYtBHVOgt",
        "colab_type": "code",
        "outputId": "712dbf41-d77c-44c4-db2f-fc1d6b60e14f",
        "colab": {
          "base_uri": "https://localhost:8080/",
          "height": 34
        }
      },
      "source": [
        "len(Name)"
      ],
      "execution_count": 0,
      "outputs": [
        {
          "output_type": "execute_result",
          "data": {
            "text/plain": [
              "10"
            ]
          },
          "metadata": {
            "tags": []
          },
          "execution_count": 16
        }
      ]
    },
    {
      "cell_type": "code",
      "metadata": {
        "id": "KZXjFi4GVd8l",
        "colab_type": "code",
        "outputId": "ad421a57-ab6c-4748-90ea-c09c890c465f",
        "colab": {
          "base_uri": "https://localhost:8080/",
          "height": 34
        }
      },
      "source": [
        "C = Name.replace('Arash', 'A.')\n",
        "\n",
        "C"
      ],
      "execution_count": 0,
      "outputs": [
        {
          "output_type": "execute_result",
          "data": {
            "text/plain": [
              "'A. Vafa'"
            ]
          },
          "metadata": {
            "tags": []
          },
          "execution_count": 18
        }
      ]
    },
    {
      "cell_type": "markdown",
      "metadata": {
        "id": "T2_xqFxvVs-2",
        "colab_type": "text"
      },
      "source": [
        "Name.find()"
      ]
    },
    {
      "cell_type": "markdown",
      "metadata": {
        "id": "Z1nmDO_HV51t",
        "colab_type": "text"
      },
      "source": [
        "Consider the variable G, and find the first index of the sub-string snow:\n",
        "\n",
        "\n",
        "G = \"Mary had a little lamb Little lamb, little lamb Mary had a little lamb \\\n",
        "Its fleece was white as snow And everywhere that Mary went Mary went, Mary went \\\n",
        "Everywhere that Mary went The lamb was sure to go\""
      ]
    },
    {
      "cell_type": "markdown",
      "metadata": {
        "id": "fx9KC1xaWbFW",
        "colab_type": "text"
      },
      "source": [
        "**Tuples**"
      ]
    },
    {
      "cell_type": "code",
      "metadata": {
        "id": "z4b_21apWn5p",
        "colab_type": "code",
        "outputId": "8a29f806-1492-41a9-ec9d-3164e6f4ad29",
        "colab": {
          "base_uri": "https://localhost:8080/",
          "height": 34
        }
      },
      "source": [
        "tuple1 = ('disco', 10, 1.2, True)\n",
        "\n",
        "tuple1"
      ],
      "execution_count": 0,
      "outputs": [
        {
          "output_type": "execute_result",
          "data": {
            "text/plain": [
              "('disco', 10, 1.2, True)"
            ]
          },
          "metadata": {
            "tags": []
          },
          "execution_count": 20
        }
      ]
    },
    {
      "cell_type": "code",
      "metadata": {
        "id": "1hRfOlS5W9Rk",
        "colab_type": "code",
        "outputId": "4d351db0-52e1-456b-de6e-1c18ae0c8039",
        "colab": {
          "base_uri": "https://localhost:8080/",
          "height": 34
        }
      },
      "source": [
        "type(tuple1)"
      ],
      "execution_count": 0,
      "outputs": [
        {
          "output_type": "execute_result",
          "data": {
            "text/plain": [
              "tuple"
            ]
          },
          "metadata": {
            "tags": []
          },
          "execution_count": 21
        }
      ]
    },
    {
      "cell_type": "markdown",
      "metadata": {
        "id": "loEjQXlYXBqV",
        "colab_type": "text"
      },
      "source": [
        "immutable --> once you define your tuple you can not update or change it"
      ]
    },
    {
      "cell_type": "code",
      "metadata": {
        "id": "aBpwJKFIXs0z",
        "colab_type": "code",
        "outputId": "98c553a7-72e0-4dba-d68f-9bb8554139f5",
        "colab": {
          "base_uri": "https://localhost:8080/",
          "height": 34
        }
      },
      "source": [
        "type(tuple1[2])"
      ],
      "execution_count": 0,
      "outputs": [
        {
          "output_type": "execute_result",
          "data": {
            "text/plain": [
              "float"
            ]
          },
          "metadata": {
            "tags": []
          },
          "execution_count": 24
        }
      ]
    },
    {
      "cell_type": "code",
      "metadata": {
        "id": "lzrZqLSnX34f",
        "colab_type": "code",
        "outputId": "f6efab4b-e4d3-48b9-b5e5-4c0c6d3144b1",
        "colab": {
          "base_uri": "https://localhost:8080/",
          "height": 34
        }
      },
      "source": [
        "type(tuple1)"
      ],
      "execution_count": 0,
      "outputs": [
        {
          "output_type": "execute_result",
          "data": {
            "text/plain": [
              "tuple"
            ]
          },
          "metadata": {
            "tags": []
          },
          "execution_count": 25
        }
      ]
    },
    {
      "cell_type": "code",
      "metadata": {
        "id": "OoTFEq7xX_0O",
        "colab_type": "code",
        "outputId": "af5d2a57-02c7-4b6b-8201-c6ca0b5862dc",
        "colab": {
          "base_uri": "https://localhost:8080/",
          "height": 34
        }
      },
      "source": [
        "tuple2 = tuple1 + (\"hard rock\", 10)\n",
        "tuple2"
      ],
      "execution_count": 0,
      "outputs": [
        {
          "output_type": "execute_result",
          "data": {
            "text/plain": [
              "('disco', 10, 1.2, True, 'hard rock', 10)"
            ]
          },
          "metadata": {
            "tags": []
          },
          "execution_count": 26
        }
      ]
    },
    {
      "cell_type": "code",
      "metadata": {
        "id": "G1G5Nyj_YDJZ",
        "colab_type": "code",
        "outputId": "d60e96cf-5dc4-4676-afdd-9cad5bb4c13d",
        "colab": {
          "base_uri": "https://localhost:8080/",
          "height": 34
        }
      },
      "source": [
        "tuple2[0:3]"
      ],
      "execution_count": 0,
      "outputs": [
        {
          "output_type": "execute_result",
          "data": {
            "text/plain": [
              "('disco', 10, 1.2)"
            ]
          },
          "metadata": {
            "tags": []
          },
          "execution_count": 27
        }
      ]
    },
    {
      "cell_type": "markdown",
      "metadata": {
        "id": "LIoz7H2XYKn8",
        "colab_type": "text"
      },
      "source": [
        "sorting"
      ]
    },
    {
      "cell_type": "code",
      "metadata": {
        "id": "fGfy0jYSYJpQ",
        "colab_type": "code",
        "colab": {}
      },
      "source": [
        "test1 = (1,3,4,5,2,2,3,0, 'Arash')"
      ],
      "execution_count": 0,
      "outputs": []
    },
    {
      "cell_type": "code",
      "metadata": {
        "id": "FXF35WxOaPNp",
        "colab_type": "code",
        "outputId": "f4c4ecc7-801f-4e2d-e814-1e5d8ff5dc32",
        "colab": {
          "base_uri": "https://localhost:8080/",
          "height": 164
        }
      },
      "source": [
        "test1[0] = 20.1"
      ],
      "execution_count": 0,
      "outputs": [
        {
          "output_type": "error",
          "ename": "TypeError",
          "evalue": "ignored",
          "traceback": [
            "\u001b[0;31m---------------------------------------------------------------------------\u001b[0m",
            "\u001b[0;31mTypeError\u001b[0m                                 Traceback (most recent call last)",
            "\u001b[0;32m<ipython-input-39-b5ac294ff0f4>\u001b[0m in \u001b[0;36m<module>\u001b[0;34m()\u001b[0m\n\u001b[0;32m----> 1\u001b[0;31m \u001b[0mtest1\u001b[0m\u001b[0;34m[\u001b[0m\u001b[0;36m0\u001b[0m\u001b[0;34m]\u001b[0m \u001b[0;34m=\u001b[0m \u001b[0;36m20.1\u001b[0m\u001b[0;34m\u001b[0m\u001b[0;34m\u001b[0m\u001b[0m\n\u001b[0m",
            "\u001b[0;31mTypeError\u001b[0m: 'tuple' object does not support item assignment"
          ]
        }
      ]
    },
    {
      "cell_type": "code",
      "metadata": {
        "id": "6pqjiCcdYTYp",
        "colab_type": "code",
        "outputId": "2d10fca0-1ab6-4cf1-db1b-a170a6dbc8f0",
        "colab": {
          "base_uri": "https://localhost:8080/",
          "height": 198
        }
      },
      "source": [
        "test2 = sorted(test1)\n",
        "\n",
        "test2"
      ],
      "execution_count": 0,
      "outputs": [
        {
          "output_type": "error",
          "ename": "TypeError",
          "evalue": "ignored",
          "traceback": [
            "\u001b[0;31m---------------------------------------------------------------------------\u001b[0m",
            "\u001b[0;31mTypeError\u001b[0m                                 Traceback (most recent call last)",
            "\u001b[0;32m<ipython-input-41-c16b14a77d1f>\u001b[0m in \u001b[0;36m<module>\u001b[0;34m()\u001b[0m\n\u001b[0;32m----> 1\u001b[0;31m \u001b[0mtest2\u001b[0m \u001b[0;34m=\u001b[0m \u001b[0msorted\u001b[0m\u001b[0;34m(\u001b[0m\u001b[0mtest1\u001b[0m\u001b[0;34m)\u001b[0m\u001b[0;34m\u001b[0m\u001b[0;34m\u001b[0m\u001b[0m\n\u001b[0m\u001b[1;32m      2\u001b[0m \u001b[0;34m\u001b[0m\u001b[0m\n\u001b[1;32m      3\u001b[0m \u001b[0mtest2\u001b[0m\u001b[0;34m\u001b[0m\u001b[0;34m\u001b[0m\u001b[0m\n",
            "\u001b[0;31mTypeError\u001b[0m: '<' not supported between instances of 'str' and 'int'"
          ]
        }
      ]
    },
    {
      "cell_type": "markdown",
      "metadata": {
        "id": "zQ_L9XcbYeBd",
        "colab_type": "text"
      },
      "source": [
        "Nested Tuple"
      ]
    },
    {
      "cell_type": "code",
      "metadata": {
        "id": "2b2Iap44YnGh",
        "colab_type": "code",
        "colab": {}
      },
      "source": [
        "NestedT =(1, 2, (\"pop\", \"rock\") ,(3,4),(\"disco\",(1,2)))"
      ],
      "execution_count": 0,
      "outputs": []
    },
    {
      "cell_type": "code",
      "metadata": {
        "id": "dS0xivpBY0jG",
        "colab_type": "code",
        "outputId": "dafbdec6-1152-4f33-f249-01308d7ee8c9",
        "colab": {
          "base_uri": "https://localhost:8080/",
          "height": 34
        }
      },
      "source": [
        "T = NestedT[2]\n",
        "T"
      ],
      "execution_count": 0,
      "outputs": [
        {
          "output_type": "execute_result",
          "data": {
            "text/plain": [
              "('pop', 'rock')"
            ]
          },
          "metadata": {
            "tags": []
          },
          "execution_count": 31
        }
      ]
    },
    {
      "cell_type": "code",
      "metadata": {
        "id": "iXDTU9-bY9dC",
        "colab_type": "code",
        "outputId": "930065f2-bc0a-4499-d6a1-8bf652b27abc",
        "colab": {
          "base_uri": "https://localhost:8080/",
          "height": 34
        }
      },
      "source": [
        "T2 = NestedT[2][1]\n",
        "\n",
        "T2"
      ],
      "execution_count": 0,
      "outputs": [
        {
          "output_type": "execute_result",
          "data": {
            "text/plain": [
              "'rock'"
            ]
          },
          "metadata": {
            "tags": []
          },
          "execution_count": 33
        }
      ]
    },
    {
      "cell_type": "code",
      "metadata": {
        "id": "bnIzBlvjZYjO",
        "colab_type": "code",
        "outputId": "1600536f-954d-4bf6-f950-fbe7a37c6c10",
        "colab": {
          "base_uri": "https://localhost:8080/",
          "height": 34
        }
      },
      "source": [
        "T2 = NestedT[2][1][2]\n",
        "\n",
        "T2"
      ],
      "execution_count": 0,
      "outputs": [
        {
          "output_type": "execute_result",
          "data": {
            "text/plain": [
              "'c'"
            ]
          },
          "metadata": {
            "tags": []
          },
          "execution_count": 34
        }
      ]
    },
    {
      "cell_type": "markdown",
      "metadata": {
        "id": "h6I3KnJMZwX0",
        "colab_type": "text"
      },
      "source": [
        "**Lists**"
      ]
    },
    {
      "cell_type": "code",
      "metadata": {
        "id": "vybGObtAZ5bn",
        "colab_type": "code",
        "colab": {}
      },
      "source": [
        "L = ['Arash Vafa', 12, 20.01]"
      ],
      "execution_count": 0,
      "outputs": []
    },
    {
      "cell_type": "code",
      "metadata": {
        "id": "VjLGAtMaaDWi",
        "colab_type": "code",
        "colab": {}
      },
      "source": [
        "L[2] = 'test'"
      ],
      "execution_count": 0,
      "outputs": []
    },
    {
      "cell_type": "code",
      "metadata": {
        "id": "EBzVUo_AaJno",
        "colab_type": "code",
        "outputId": "ea06f948-7fc1-48aa-eb64-408f8b775d0a",
        "colab": {
          "base_uri": "https://localhost:8080/",
          "height": 34
        }
      },
      "source": [
        "L"
      ],
      "execution_count": 0,
      "outputs": [
        {
          "output_type": "execute_result",
          "data": {
            "text/plain": [
              "['Arash Vafa', 12, 'test']"
            ]
          },
          "metadata": {
            "tags": []
          },
          "execution_count": 38
        }
      ]
    },
    {
      "cell_type": "code",
      "metadata": {
        "id": "r213POyYalxU",
        "colab_type": "code",
        "outputId": "d075d2fe-64ed-43d4-b11e-53c5b26d6433",
        "colab": {
          "base_uri": "https://localhost:8080/",
          "height": 34
        }
      },
      "source": [
        "T = 2*2\n",
        "\n",
        "print(T)"
      ],
      "execution_count": 0,
      "outputs": [
        {
          "output_type": "stream",
          "text": [
            "4\n"
          ],
          "name": "stdout"
        }
      ]
    },
    {
      "cell_type": "code",
      "metadata": {
        "id": "qnt3KvCqatTu",
        "colab_type": "code",
        "outputId": "29f83b3b-7775-408b-b57a-0c77ddd63e50",
        "colab": {
          "base_uri": "https://localhost:8080/",
          "height": 198
        }
      },
      "source": [
        "T = 2*'Arash '\n",
        "\n",
        "print(T)"
      ],
      "execution_count": 0,
      "outputs": [
        {
          "output_type": "error",
          "ename": "TypeError",
          "evalue": "ignored",
          "traceback": [
            "\u001b[0;31m---------------------------------------------------------------------------\u001b[0m",
            "\u001b[0;31mTypeError\u001b[0m                                 Traceback (most recent call last)",
            "\u001b[0;32m<ipython-input-44-3b085c54c0ab>\u001b[0m in \u001b[0;36m<module>\u001b[0;34m()\u001b[0m\n\u001b[0;32m----> 1\u001b[0;31m \u001b[0mT\u001b[0m \u001b[0;34m=\u001b[0m \u001b[0;34m'Arash'\u001b[0m\u001b[0;34m*\u001b[0m\u001b[0;34m'Arash '\u001b[0m\u001b[0;34m\u001b[0m\u001b[0;34m\u001b[0m\u001b[0m\n\u001b[0m\u001b[1;32m      2\u001b[0m \u001b[0;34m\u001b[0m\u001b[0m\n\u001b[1;32m      3\u001b[0m \u001b[0mprint\u001b[0m\u001b[0;34m(\u001b[0m\u001b[0mT\u001b[0m\u001b[0;34m)\u001b[0m\u001b[0;34m\u001b[0m\u001b[0;34m\u001b[0m\u001b[0m\n",
            "\u001b[0;31mTypeError\u001b[0m: can't multiply sequence by non-int of type 'str'"
          ]
        }
      ]
    },
    {
      "cell_type": "code",
      "metadata": {
        "id": "W42m_R3Kbi-C",
        "colab_type": "code",
        "colab": {}
      },
      "source": [
        "L = ['Arash Vafa', 1, 2, [1,2], ('!', 34)]"
      ],
      "execution_count": 0,
      "outputs": []
    },
    {
      "cell_type": "code",
      "metadata": {
        "id": "SNZM5UbmbuNs",
        "colab_type": "code",
        "outputId": "d21eafff-628f-4f7d-b61f-19cfc7945907",
        "colab": {
          "base_uri": "https://localhost:8080/",
          "height": 34
        }
      },
      "source": [
        "type(L)"
      ],
      "execution_count": 0,
      "outputs": [
        {
          "output_type": "execute_result",
          "data": {
            "text/plain": [
              "list"
            ]
          },
          "metadata": {
            "tags": []
          },
          "execution_count": 48
        }
      ]
    },
    {
      "cell_type": "code",
      "metadata": {
        "id": "ygRwErSub2Um",
        "colab_type": "code",
        "outputId": "b1bad760-b304-49da-d66c-515a27cf44db",
        "colab": {
          "base_uri": "https://localhost:8080/",
          "height": 34
        }
      },
      "source": [
        "L.extend(['test233', 12])\n",
        "\n",
        "L"
      ],
      "execution_count": 0,
      "outputs": [
        {
          "output_type": "execute_result",
          "data": {
            "text/plain": [
              "['Arash Vafa', 1, 2, [1, 2], ('!', 34), 'test233', 12]"
            ]
          },
          "metadata": {
            "tags": []
          },
          "execution_count": 47
        }
      ]
    },
    {
      "cell_type": "code",
      "metadata": {
        "id": "TTOBINf3cIBK",
        "colab_type": "code",
        "outputId": "06560332-7126-485a-931e-b2f128d8351d",
        "colab": {
          "base_uri": "https://localhost:8080/",
          "height": 34
        }
      },
      "source": [
        "L = ['Arash Vafa', 1, 2, [1,2], ('!', 34)]\n",
        "\n",
        "L.append(['test233', 12])\n",
        "\n",
        "L"
      ],
      "execution_count": 0,
      "outputs": [
        {
          "output_type": "execute_result",
          "data": {
            "text/plain": [
              "['Arash Vafa', 1, 2, [1, 2], ('!', 34), ['test233', 12]]"
            ]
          },
          "metadata": {
            "tags": []
          },
          "execution_count": 49
        }
      ]
    },
    {
      "cell_type": "code",
      "metadata": {
        "id": "7xhagQlZcwR5",
        "colab_type": "code",
        "outputId": "07d150ed-a1ee-450a-8a08-7a9be9b59405",
        "colab": {
          "base_uri": "https://localhost:8080/",
          "height": 34
        }
      },
      "source": [
        "L"
      ],
      "execution_count": 0,
      "outputs": [
        {
          "output_type": "execute_result",
          "data": {
            "text/plain": [
              "['Arash Vafa', 1, 2, [1, 2], ('!', 34), ['test233', 12]]"
            ]
          },
          "metadata": {
            "tags": []
          },
          "execution_count": 50
        }
      ]
    },
    {
      "cell_type": "code",
      "metadata": {
        "id": "RwC3UE9Rcq_j",
        "colab_type": "code",
        "colab": {}
      },
      "source": [
        "del(L[0])"
      ],
      "execution_count": 0,
      "outputs": []
    },
    {
      "cell_type": "code",
      "metadata": {
        "id": "DBx_0DZKcy0m",
        "colab_type": "code",
        "outputId": "1f6b9b1f-d097-4819-e112-0d6b04097d5b",
        "colab": {
          "base_uri": "https://localhost:8080/",
          "height": 34
        }
      },
      "source": [
        "L"
      ],
      "execution_count": 0,
      "outputs": [
        {
          "output_type": "execute_result",
          "data": {
            "text/plain": [
              "[1, 2, [1, 2], ('!', 34), ['test233', 12]]"
            ]
          },
          "metadata": {
            "tags": []
          },
          "execution_count": 52
        }
      ]
    },
    {
      "cell_type": "code",
      "metadata": {
        "id": "Ewnn_9cAdBtg",
        "colab_type": "code",
        "outputId": "89358ff5-9c26-4d7f-b350-a3a068e3505d",
        "colab": {
          "base_uri": "https://localhost:8080/",
          "height": 34
        }
      },
      "source": [
        "type('A;B;C,D'.split(';'))"
      ],
      "execution_count": 0,
      "outputs": [
        {
          "output_type": "execute_result",
          "data": {
            "text/plain": [
              "list"
            ]
          },
          "metadata": {
            "tags": []
          },
          "execution_count": 57
        }
      ]
    },
    {
      "cell_type": "markdown",
      "metadata": {
        "id": "PtxQhMgPdh86",
        "colab_type": "text"
      },
      "source": [
        "copy and clone lists"
      ]
    },
    {
      "cell_type": "code",
      "metadata": {
        "id": "d4gu73T_dnrf",
        "colab_type": "code",
        "outputId": "148a0d02-4e82-4874-b67b-c2b88a7d19c0",
        "colab": {
          "base_uri": "https://localhost:8080/",
          "height": 51
        }
      },
      "source": [
        "A = [\"hard rock\", 10, 1.2]\n",
        "B = A\n",
        "print('A:', A)\n",
        "print('B:', B)"
      ],
      "execution_count": 0,
      "outputs": [
        {
          "output_type": "stream",
          "text": [
            "A: ['hard rock', 10, 1.2]\n",
            "B: ['hard rock', 10, 1.2]\n"
          ],
          "name": "stdout"
        }
      ]
    },
    {
      "cell_type": "code",
      "metadata": {
        "id": "e2tL_pFvdwsz",
        "colab_type": "code",
        "outputId": "73f80f39-bee8-4b52-af2e-531462f08ee9",
        "colab": {
          "base_uri": "https://localhost:8080/",
          "height": 34
        }
      },
      "source": [
        "print(B[0])"
      ],
      "execution_count": 0,
      "outputs": [
        {
          "output_type": "stream",
          "text": [
            "hard rock\n"
          ],
          "name": "stdout"
        }
      ]
    },
    {
      "cell_type": "code",
      "metadata": {
        "id": "RuahuZ1wd1LM",
        "colab_type": "code",
        "colab": {}
      },
      "source": [
        "A[0] = 'test'"
      ],
      "execution_count": 0,
      "outputs": []
    },
    {
      "cell_type": "code",
      "metadata": {
        "id": "FuVIrrJ6eAei",
        "colab_type": "code",
        "outputId": "e5229320-1a2e-4572-aab7-8302a727d1a2",
        "colab": {
          "base_uri": "https://localhost:8080/",
          "height": 34
        }
      },
      "source": [
        "print('A:', A)"
      ],
      "execution_count": 0,
      "outputs": [
        {
          "output_type": "stream",
          "text": [
            "A: ['test', 10, 1.2]\n"
          ],
          "name": "stdout"
        }
      ]
    },
    {
      "cell_type": "code",
      "metadata": {
        "id": "pRLyIOlveDyG",
        "colab_type": "code",
        "outputId": "758f7b1e-2ff0-448e-9cb3-a64062a444a5",
        "colab": {
          "base_uri": "https://localhost:8080/",
          "height": 34
        }
      },
      "source": [
        "print(B[0])"
      ],
      "execution_count": 0,
      "outputs": [
        {
          "output_type": "stream",
          "text": [
            "test\n"
          ],
          "name": "stdout"
        }
      ]
    },
    {
      "cell_type": "markdown",
      "metadata": {
        "id": "JF0M-mNNeNyO",
        "colab_type": "text"
      },
      "source": [
        "![alt text](https://s3-api.us-geo.objectstorage.softlayer.net/cf-courses-data/CognitiveClass/PY0101EN/Chapter%202/Images/ListsRef.png)"
      ]
    },
    {
      "cell_type": "code",
      "metadata": {
        "id": "_60aMYO5eixk",
        "colab_type": "code",
        "outputId": "f74c0c68-b5aa-4dbb-f2cd-0b7039b33b1f",
        "colab": {
          "base_uri": "https://localhost:8080/",
          "height": 34
        }
      },
      "source": [
        "#clone a list\n",
        "\n",
        "B = A[:]\n",
        "\n",
        "B"
      ],
      "execution_count": 0,
      "outputs": [
        {
          "output_type": "execute_result",
          "data": {
            "text/plain": [
              "['test', 10, 1.2]"
            ]
          },
          "metadata": {
            "tags": []
          },
          "execution_count": 63
        }
      ]
    },
    {
      "cell_type": "code",
      "metadata": {
        "id": "7M4mQACZepbI",
        "colab_type": "code",
        "outputId": "53109172-437d-43a0-c402-746545588b42",
        "colab": {
          "base_uri": "https://localhost:8080/",
          "height": 34
        }
      },
      "source": [
        "A[0] = 'hard rock'\n",
        "\n",
        "A"
      ],
      "execution_count": 0,
      "outputs": [
        {
          "output_type": "execute_result",
          "data": {
            "text/plain": [
              "['hard rock', 10, 1.2]"
            ]
          },
          "metadata": {
            "tags": []
          },
          "execution_count": 64
        }
      ]
    },
    {
      "cell_type": "code",
      "metadata": {
        "id": "4OFxyrHzetcF",
        "colab_type": "code",
        "outputId": "110c510c-794c-4ae4-e419-75dff033e477",
        "colab": {
          "base_uri": "https://localhost:8080/",
          "height": 34
        }
      },
      "source": [
        "B"
      ],
      "execution_count": 0,
      "outputs": [
        {
          "output_type": "execute_result",
          "data": {
            "text/plain": [
              "['test', 10, 1.2]"
            ]
          },
          "metadata": {
            "tags": []
          },
          "execution_count": 65
        }
      ]
    },
    {
      "cell_type": "markdown",
      "metadata": {
        "id": "eFmrAfjOfMi9",
        "colab_type": "text"
      },
      "source": [
        "![alt text](https://s3-api.us-geo.objectstorage.softlayer.net/cf-courses-data/CognitiveClass/PY0101EN/Chapter%202/Images/ListsVal.gif)"
      ]
    },
    {
      "cell_type": "markdown",
      "metadata": {
        "id": "93P5G1xCf-UA",
        "colab_type": "text"
      },
      "source": [
        "Dictionaries\n",
        "\n",
        "Key --> values"
      ]
    },
    {
      "cell_type": "markdown",
      "metadata": {
        "id": "Zl4GlnWogrKD",
        "colab_type": "text"
      },
      "source": [
        "![alt text](https://s3-api.us-geo.objectstorage.softlayer.net/cf-courses-data/CognitiveClass/PY0101EN/Chapter%202/Images/DictsList.png)"
      ]
    },
    {
      "cell_type": "code",
      "metadata": {
        "id": "dpp9uRB1g9vD",
        "colab_type": "code",
        "outputId": "86478834-353a-4584-8e02-d039cc7af10e",
        "colab": {
          "base_uri": "https://localhost:8080/",
          "height": 119
        }
      },
      "source": [
        "# Create the dictionary\n",
        "\n",
        "Dict = {\"key1\": 1, \"key2\": \"2\", \"key3\": [3, 3, 3], \"key4\": (4, 4, 4), ('key5'): 5, (0, 1): 6}\n",
        "\n",
        "Dict"
      ],
      "execution_count": 0,
      "outputs": [
        {
          "output_type": "execute_result",
          "data": {
            "text/plain": [
              "{(0, 1): 6,\n",
              " 'key1': 1,\n",
              " 'key2': '2',\n",
              " 'key3': [3, 3, 3],\n",
              " 'key4': (4, 4, 4),\n",
              " 'key5': 5}"
            ]
          },
          "metadata": {
            "tags": []
          },
          "execution_count": 68
        }
      ]
    }
  ]
}